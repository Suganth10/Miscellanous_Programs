{
 "cells": [
  {
   "cell_type": "code",
   "execution_count": 111,
   "metadata": {
    "collapsed": true
   },
   "outputs": [],
   "source": [
    "import tweepy\n",
    "import pandas as pd\n",
    "import preprocessor as p\n",
    "from watson_developer_cloud import PersonalityInsightsV3\n",
    "from langdetect import detect_langs\n",
    "from langid.langid import LanguageIdentifier, model\n",
    "import pandas as pd\n",
    "import time"
   ]
  },
  {
   "cell_type": "markdown",
   "metadata": {},
   "source": [
    "### Reading data from the html table"
   ]
  },
  {
   "cell_type": "code",
   "execution_count": 112,
   "metadata": {
    "collapsed": true
   },
   "outputs": [],
   "source": [
    "actors = pd.read_html(\"https://www.socialbakers.com/statistics/twitter/profiles/india/celebrities/actor/page-1-2/\")[0]\n",
    "sports_star = pd.read_html(\"https://www.socialbakers.com/statistics/twitter/profiles/india/celebrities/sport-star/page-1-2/\")[0]\n",
    "writer = pd.read_html(\"https://www.socialbakers.com/statistics/twitter/profiles/india/celebrities/writer/page-1-2/\")[0]\n",
    "politicians = pd.read_html(\"https://www.socialbakers.com/statistics/twitter/profiles/india/society/politics/page-1-2/\")[0]"
   ]
  },
  {
   "cell_type": "code",
   "execution_count": 1,
   "metadata": {
    "collapsed": true
   },
   "outputs": [],
   "source": [
    "import pandas as pd"
   ]
  },
  {
   "cell_type": "code",
   "execution_count": 12,
   "metadata": {
    "collapsed": true
   },
   "outputs": [],
   "source": [
    "actors = pd.read_html(\"https://www.socialbakers.com/statistics/twitter/profiles/india/celebrities/actor/page-1-2/\")[0]"
   ]
  },
  {
   "cell_type": "code",
   "execution_count": 18,
   "metadata": {},
   "outputs": [
    {
     "data": {
      "text/html": [
       "<div>\n",
       "<style>\n",
       "    .dataframe thead tr:only-child th {\n",
       "        text-align: right;\n",
       "    }\n",
       "\n",
       "    .dataframe thead th {\n",
       "        text-align: left;\n",
       "    }\n",
       "\n",
       "    .dataframe tbody tr th {\n",
       "        vertical-align: top;\n",
       "    }\n",
       "</style>\n",
       "<table border=\"1\" class=\"dataframe\">\n",
       "  <thead>\n",
       "    <tr style=\"text-align: right;\">\n",
       "      <th></th>\n",
       "      <th>0</th>\n",
       "      <th>1</th>\n",
       "      <th>2</th>\n",
       "      <th>3</th>\n",
       "    </tr>\n",
       "  </thead>\n",
       "  <tbody>\n",
       "    <tr>\n",
       "      <th>0</th>\n",
       "      <td>1</td>\n",
       "      <td>1  Amitabh Bachchan (@SrBachchan)</td>\n",
       "      <td>Followings  Followings  1 164</td>\n",
       "      <td>Followers  Followers  31 406 900</td>\n",
       "    </tr>\n",
       "    <tr>\n",
       "      <th>1</th>\n",
       "      <td>2</td>\n",
       "      <td>2  Shah Rukh Khan (@iamsrk)</td>\n",
       "      <td>Followings  81</td>\n",
       "      <td>Followers  30 750 527</td>\n",
       "    </tr>\n",
       "    <tr>\n",
       "      <th>2</th>\n",
       "      <td>3</td>\n",
       "      <td>3  Salman Khan (@BeingSalmanKhan)</td>\n",
       "      <td>Followings  22</td>\n",
       "      <td>Followers  28 310 483</td>\n",
       "    </tr>\n",
       "    <tr>\n",
       "      <th>3</th>\n",
       "      <td>4</td>\n",
       "      <td>4  Akshay Kumar (@akshaykumar)</td>\n",
       "      <td>Followings  25</td>\n",
       "      <td>Followers  22 645 866</td>\n",
       "    </tr>\n",
       "    <tr>\n",
       "      <th>4</th>\n",
       "      <td>5</td>\n",
       "      <td>5  Aamir Khan (@aamir_khan)</td>\n",
       "      <td>Followings  9</td>\n",
       "      <td>Followers  22 390 346</td>\n",
       "    </tr>\n",
       "    <tr>\n",
       "      <th>5</th>\n",
       "      <td>6</td>\n",
       "      <td>6  Deepika Padukone (@deepikapadukone)</td>\n",
       "      <td>Followings  74</td>\n",
       "      <td>Followers  21 986 651</td>\n",
       "    </tr>\n",
       "    <tr>\n",
       "      <th>6</th>\n",
       "      <td>7</td>\n",
       "      <td>7  Hrithik Roshan (@iHrithik)</td>\n",
       "      <td>Followings  86</td>\n",
       "      <td>Followers  20 742 693</td>\n",
       "    </tr>\n",
       "    <tr>\n",
       "      <th>7</th>\n",
       "      <td>8</td>\n",
       "      <td>8  PRIYANKA (@priyankachopra)</td>\n",
       "      <td>Followings  537</td>\n",
       "      <td>Followers  20 547 906</td>\n",
       "    </tr>\n",
       "    <tr>\n",
       "      <th>8</th>\n",
       "      <td>9</td>\n",
       "      <td>9  Alia Bhatt (@aliaa08)</td>\n",
       "      <td>Followings  237</td>\n",
       "      <td>Followers  14 690 943</td>\n",
       "    </tr>\n",
       "    <tr>\n",
       "      <th>9</th>\n",
       "      <td>10</td>\n",
       "      <td>10  Anushka Sharma (@AnushkaSharma)</td>\n",
       "      <td>Followings  133</td>\n",
       "      <td>Followers  13 581 864</td>\n",
       "    </tr>\n",
       "    <tr>\n",
       "      <th>10</th>\n",
       "      <td>11</td>\n",
       "      <td>11  Abhishek Bachchan (@juniorbachchan)</td>\n",
       "      <td>Followings  395</td>\n",
       "      <td>Followers  12 755 552</td>\n",
       "    </tr>\n",
       "    <tr>\n",
       "      <th>11</th>\n",
       "      <td>12</td>\n",
       "      <td>12  Shahid Kapoor (@shahidkapoor)</td>\n",
       "      <td>Followings  102</td>\n",
       "      <td>Followers  11 965 022</td>\n",
       "    </tr>\n",
       "    <tr>\n",
       "      <th>12</th>\n",
       "      <td>13</td>\n",
       "      <td>13  Sonakshi Sinha (@sonakshisinha)</td>\n",
       "      <td>Followings  67</td>\n",
       "      <td>Followers  11 583 986</td>\n",
       "    </tr>\n",
       "    <tr>\n",
       "      <th>13</th>\n",
       "      <td>14</td>\n",
       "      <td>14  Sonam Kapoor (@sonamakapoor)</td>\n",
       "      <td>Followings  767</td>\n",
       "      <td>Followers  11 139 216</td>\n",
       "    </tr>\n",
       "    <tr>\n",
       "      <th>14</th>\n",
       "      <td>15</td>\n",
       "      <td>15  Anupam Kher (@AnupamPkher)</td>\n",
       "      <td>Followings  130</td>\n",
       "      <td>Followers  11 059 519</td>\n",
       "    </tr>\n",
       "    <tr>\n",
       "      <th>15</th>\n",
       "      <td>16</td>\n",
       "      <td>16  KAPIL (@KapilSharmaK9)</td>\n",
       "      <td>Followings  202</td>\n",
       "      <td>Followers  10 597 723</td>\n",
       "    </tr>\n",
       "    <tr>\n",
       "      <th>16</th>\n",
       "      <td>17</td>\n",
       "      <td>17  Parineeti Chopra (@ParineetiChopra)</td>\n",
       "      <td>Followings  255</td>\n",
       "      <td>Followers  10 378 584</td>\n",
       "    </tr>\n",
       "    <tr>\n",
       "      <th>17</th>\n",
       "      <td>18</td>\n",
       "      <td>18  Shraddha (@ShraddhaKapoor)</td>\n",
       "      <td>Followings  283</td>\n",
       "      <td>Followers  8 143 306</td>\n",
       "    </tr>\n",
       "    <tr>\n",
       "      <th>18</th>\n",
       "      <td>19</td>\n",
       "      <td>19  Ajay Devgn (@ajaydevgn)</td>\n",
       "      <td>Followings  56</td>\n",
       "      <td>Followers  8 069 444</td>\n",
       "    </tr>\n",
       "    <tr>\n",
       "      <th>19</th>\n",
       "      <td>20</td>\n",
       "      <td>20  Riteish Deshmukh (@Riteishd)</td>\n",
       "      <td>Followings  268</td>\n",
       "      <td>Followers  7 755 747</td>\n",
       "    </tr>\n",
       "  </tbody>\n",
       "</table>\n",
       "</div>"
      ],
      "text/plain": [
       "     0                                        1  \\\n",
       "0    1        1  Amitabh Bachchan (@SrBachchan)   \n",
       "1    2              2  Shah Rukh Khan (@iamsrk)   \n",
       "2    3        3  Salman Khan (@BeingSalmanKhan)   \n",
       "3    4           4  Akshay Kumar (@akshaykumar)   \n",
       "4    5              5  Aamir Khan (@aamir_khan)   \n",
       "5    6   6  Deepika Padukone (@deepikapadukone)   \n",
       "6    7            7  Hrithik Roshan (@iHrithik)   \n",
       "7    8            8  PRIYANKA (@priyankachopra)   \n",
       "8    9                 9  Alia Bhatt (@aliaa08)   \n",
       "9   10      10  Anushka Sharma (@AnushkaSharma)   \n",
       "10  11  11  Abhishek Bachchan (@juniorbachchan)   \n",
       "11  12        12  Shahid Kapoor (@shahidkapoor)   \n",
       "12  13      13  Sonakshi Sinha (@sonakshisinha)   \n",
       "13  14         14  Sonam Kapoor (@sonamakapoor)   \n",
       "14  15           15  Anupam Kher (@AnupamPkher)   \n",
       "15  16               16  KAPIL (@KapilSharmaK9)   \n",
       "16  17  17  Parineeti Chopra (@ParineetiChopra)   \n",
       "17  18           18  Shraddha (@ShraddhaKapoor)   \n",
       "18  19              19  Ajay Devgn (@ajaydevgn)   \n",
       "19  20         20  Riteish Deshmukh (@Riteishd)   \n",
       "\n",
       "                                2                                 3  \n",
       "0   Followings  Followings  1 164  Followers  Followers  31 406 900  \n",
       "1                  Followings  81             Followers  30 750 527  \n",
       "2                  Followings  22             Followers  28 310 483  \n",
       "3                  Followings  25             Followers  22 645 866  \n",
       "4                   Followings  9             Followers  22 390 346  \n",
       "5                  Followings  74             Followers  21 986 651  \n",
       "6                  Followings  86             Followers  20 742 693  \n",
       "7                 Followings  537             Followers  20 547 906  \n",
       "8                 Followings  237             Followers  14 690 943  \n",
       "9                 Followings  133             Followers  13 581 864  \n",
       "10                Followings  395             Followers  12 755 552  \n",
       "11                Followings  102             Followers  11 965 022  \n",
       "12                 Followings  67             Followers  11 583 986  \n",
       "13                Followings  767             Followers  11 139 216  \n",
       "14                Followings  130             Followers  11 059 519  \n",
       "15                Followings  202             Followers  10 597 723  \n",
       "16                Followings  255             Followers  10 378 584  \n",
       "17                Followings  283              Followers  8 143 306  \n",
       "18                 Followings  56              Followers  8 069 444  \n",
       "19                Followings  268              Followers  7 755 747  "
      ]
     },
     "execution_count": 18,
     "metadata": {},
     "output_type": "execute_result"
    }
   ],
   "source": [
    "actors.dropna(axis=0)"
   ]
  },
  {
   "cell_type": "markdown",
   "metadata": {},
   "source": [
    "#### Renaming the columns in above data frames"
   ]
  },
  {
   "cell_type": "code",
   "execution_count": 113,
   "metadata": {},
   "outputs": [
    {
     "data": {
      "text/plain": [
       "0    1  Amitabh Bachchan (@SrBachchan)\n",
       "1          2  Shah Rukh Khan (@iamsrk)\n",
       "2    3  Salman Khan (@BeingSalmanKhan)\n",
       "3       4  Akshay Kumar (@akshaykumar)\n",
       "4          5  Aamir Khan (@aamir_khan)\n",
       "Name: celebrity, dtype: object"
      ]
     },
     "execution_count": 113,
     "metadata": {},
     "output_type": "execute_result"
    }
   ],
   "source": [
    "data = [actors, sports_star, writer, politicians]\n",
    "for item in data:\n",
    "    item.columns = ['rank', 'celebrity', 'followings', 'followers']\n",
    "\n",
    "# Merging all the categories of celebrities to one\n",
    "df = pd.concat(data)\n",
    "celebrities = df.celebrity.dropna(axis=0, how='all')\n",
    "celebrities.head()"
   ]
  },
  {
   "cell_type": "markdown",
   "metadata": {},
   "source": [
    "#### cleaning the df columns to obtain Twitter user names"
   ]
  },
  {
   "cell_type": "code",
   "execution_count": 115,
   "metadata": {
    "collapsed": true,
    "scrolled": true
   },
   "outputs": [],
   "source": [
    "celeb_list  = celebrities.str.extract('@(\\S+)\\)', expand = True)[0].tolist()"
   ]
  },
  {
   "cell_type": "code",
   "execution_count": 116,
   "metadata": {
    "collapsed": true
   },
   "outputs": [],
   "source": [
    "consumer_key = '2QTDFjrpIy71bwCuJXwgC85oD'\n",
    "consumer_secret = '2sctC17IBpkigXU7TbzQnygSK3Uydit9yw4Pn0Xjhc5N8Jaftd'\n",
    "access_token = '2891438354-ZrPa7xndtycr4DoNiG2JkdQXZ52WrZEIiIRyG3X'\n",
    "access_secret = '92HfNTEzY9HNrbrHPcvYQPibFtA1BCtzRwPSiVTUETkhv'"
   ]
  },
  {
   "cell_type": "markdown",
   "metadata": {},
   "source": [
    "### outputs only the Tweets of a specifc user"
   ]
  },
  {
   "cell_type": "markdown",
   "metadata": {},
   "source": [
    "#### following function uses LanguageIdentifier package for extracting the relevant tweets that have probability of being written in english greater than 0.9 \n",
    "\n",
    "### Language Detection using langid package gives better accuracy in detecting English language but execution time increases. \n"
   ]
  },
  {
   "cell_type": "code",
   "execution_count": 117,
   "metadata": {
    "collapsed": true
   },
   "outputs": [],
   "source": [
    "def LanguageIdentifier_relevant_tweets(screen_name):\n",
    "    #Twitter only allows access to a users most recent tweets with this method\n",
    "\n",
    "    #authorize twitter, initialize tweepy\n",
    "    auth = tweepy.OAuthHandler(consumer_key, consumer_secret)\n",
    "    auth.set_access_token(access_token, access_secret)\n",
    "    api = tweepy.API(auth)\n",
    "\n",
    "    #initialize a list to hold all the tweepy Tweets\n",
    "    alltweets = []\n",
    "    relevant_tweet = []\n",
    "\n",
    "    #make initial request for most recent tweets (200 is the maximum allowed count)\n",
    "    new_tweets = api.user_timeline(screen_name = screen_name,count=200, lang='en', include_rts=False, exclude_replies = True)\n",
    "    \n",
    "    #save most recent tweets\n",
    "    \n",
    "    alltweets.extend(new_tweets)\n",
    "    #save the id of the oldest tweet less one\n",
    "    oldest = alltweets[-1].id - 1\n",
    "    \n",
    "    \n",
    "\n",
    "    #keep grabbing tweets until there are no tweets left to grab\n",
    "    while len(new_tweets) > 0:\n",
    "\n",
    "        #all subsiquent requests use the max_id param to prevent duplicates\n",
    "        new_tweets = api.user_timeline(screen_name = screen_name,count=200,max_id=oldest, lang='en', include_rts=False, exclude_replies = True)\n",
    "\n",
    "        #save most recent tweets\n",
    "        alltweets.extend(new_tweets)\n",
    "\n",
    "        #update the id of the oldest tweet less one\n",
    "        oldest = alltweets[-1].id - 1\n",
    "    \n",
    "    for tweet in alltweets:\n",
    "        # Data Cleaning 2> Extracting alphabetic and space text from tweets \n",
    "        twt = \"\".join(x for x in p.clean(tweet.text) if x.isalpha() or x.isspace())\n",
    "        identifier = LanguageIdentifier.from_modelstring(model, norm_probs=True)\n",
    "        langProb = identifier.classify(twt)\n",
    "        if langProb[0] == 'en' and float(langProb[1]) > 0.9:\n",
    "            relevant_tweet.append(twt)\n",
    "    return relevant_tweet"
   ]
  },
  {
   "cell_type": "markdown",
   "metadata": {},
   "source": [
    "#### Extracting relevant tweets Using Lang detect package\n",
    "\n",
    "### Langdetect package has faster execution time but accuracy of identifying English language is lesser"
   ]
  },
  {
   "cell_type": "code",
   "execution_count": 118,
   "metadata": {
    "collapsed": true
   },
   "outputs": [],
   "source": [
    "def detect_langs_relevant_tweets(screen_name):\n",
    "    #Twitter only allows access to a users most recent tweets with this method\n",
    "\n",
    "    #authorize twitter, initialize tweepy\n",
    "    start_time = time.time()\n",
    "    auth = tweepy.OAuthHandler(consumer_key, consumer_secret)\n",
    "    auth.set_access_token(access_token, access_secret)\n",
    "    api = tweepy.API(auth)\n",
    "\n",
    "    #initialize a list to hold all the tweepy Tweets\n",
    "    alltweets = []\n",
    "    relevant_tweet = []\n",
    "\n",
    "    #make initial request for most recent tweets (200 is the maximum allowed count)\n",
    "    new_tweets = api.user_timeline(screen_name = screen_name,count=200, lang='en', include_rts=False, exclude_replies = True)\n",
    "    \n",
    "    #save most recent tweets\n",
    "    \n",
    "    alltweets.extend(new_tweets)\n",
    "    #save the id of the oldest tweet less one\n",
    "    oldest = alltweets[-1].id - 1\n",
    "    \n",
    "    #keep grabbing tweets until there are no tweets left to grab\n",
    "    while len(new_tweets) > 0:\n",
    "\n",
    "        #all subsiquent requests use the max_id param to prevent duplicates\n",
    "        new_tweets = api.user_timeline(screen_name = screen_name,count=200,max_id=oldest, lang='en', include_rts=False, exclude_replies = True)\n",
    "\n",
    "        #save most recent tweets\n",
    "        alltweets.extend(new_tweets)\n",
    "\n",
    "        #update the id of the oldest tweet less one\n",
    "        oldest = alltweets[-1].id - 1\n",
    "    \n",
    "    for tweet in alltweets:\n",
    "        # Data Cleaning 2> Extracting alphabetic and space text from tweets \n",
    "        twt = \"\".join(x for x in p.clean(tweet.text) if x.isalpha() or x.isspace())\n",
    "        if (len(twt) > 0):\n",
    "            if (str(detect_langs(twt)[0])[:2] =='en') & (float(str(detect_langs(twt)[0])[3:]) > 0.9):\n",
    "                relevant_tweet.append(twt)\n",
    "    #print('Execution time for relevant_tweets function: ', time.time()-start_time)\n",
    "    return relevant_tweet"
   ]
  },
  {
   "cell_type": "code",
   "execution_count": 99,
   "metadata": {
    "collapsed": true
   },
   "outputs": [],
   "source": [
    "## Get PI object using PI credentials - Aradhna\n",
    "personality_insights = PersonalityInsightsV3(\n",
    "version='2017-10-13',\n",
    "username='04847f5d-afb4-4b08-8ed1-ae8ac7a56ac9',\n",
    "password='8jniPKnFjDYO')"
   ]
  },
  {
   "cell_type": "code",
   "execution_count": 100,
   "metadata": {
    "collapsed": true
   },
   "outputs": [],
   "source": [
    "# Ram PI Credentials \n",
    "personality_insights = PersonalityInsightsV3(\n",
    "version='2017-10-13',\n",
    "username='f2264642-7379-488b-9154-e1373384cbc0',\n",
    "password='rUBImsJrWStQ')"
   ]
  },
  {
   "cell_type": "code",
   "execution_count": 101,
   "metadata": {
    "collapsed": true
   },
   "outputs": [],
   "source": [
    "## Call Personality Insights on the tweets for the user\n",
    "def getPersonality(tweets):\n",
    "    # get tweets by user\n",
    "    start_time = time.time()\n",
    "    if tweets == None:\n",
    "        profile = None\n",
    "    else:\n",
    "        tweets_content = ' '.join(tweets)\n",
    "        # UTF-8 encoding\n",
    "        twt = tweets_content.encode('utf-8')\n",
    "        \n",
    "        # call PI to get personality profile\n",
    "        try:\n",
    "            profile = personality_insights.profile(twt, content_type = 'text/plain', content_language = None,\n",
    "                                           accept ='application/json', accept_language = None, raw_scores = False,\n",
    "                                           consumption_preferences = False, csv_headers = False)\n",
    "            \n",
    "        except Exception:\n",
    "            profile = None\n",
    "    #print('Execution time for getPersonality function: ', time.time()-start_time)\n",
    "    return profile\n",
    "\n",
    "## Extract OCEAN percentiles from PI data\n",
    "def extractOCEANtraits(profile):\n",
    "    start_time = time.time()\n",
    "    if profile == None:\n",
    "        openness = None\n",
    "        conscientiousness = None\n",
    "        extraversion = None\n",
    "        agreeableness = None\n",
    "        neuroticism = None\n",
    "    else:\n",
    "        personality = profile['personality']\n",
    "        openness = personality[0]['percentile']\n",
    "        conscientiousness = personality[1]['percentile']\n",
    "        extraversion = personality[2]['percentile']\n",
    "        agreeableness = personality[3]['percentile']\n",
    "        neuroticism = personality[4]['percentile']\n",
    "        \n",
    "    #print('Execution time for extractOCEANtraits function: ', time.time()-start_time)\n",
    "    return openness, conscientiousness, extraversion, agreeableness, neuroticism\n",
    "\n",
    "## Combine function calls for a user\n",
    "def getPItraits(user):\n",
    "    \n",
    "    pitraits = {}\n",
    "    try:\n",
    "        ### Uncomment the line below to use FASTER language detection.\n",
    "        \n",
    "        #tweets = LanguageIdentifier_relevant_tweets(user)\n",
    "        \n",
    "        ### The line below gives a more ACCURATE language detection.\n",
    "        tweets = detect_langs_relevant_tweets(user)\n",
    "        # run PI profile on extracted tweets\n",
    "        profile = getPersonality(tweets)\n",
    "        # extract OCEAN traits\n",
    "        traits = extractOCEANtraits(profile)\n",
    "        if traits:\n",
    "            # writing the personality profile of a user into dictionary\n",
    "            OCEANTraits = dict(zip(['openness', 'conscientiousness', 'extraversion', 'agreeableness', 'neuroticism'],traits))\n",
    "            return dict([(user,OCEANTraits)])\n",
    "        else:\n",
    "            return None\n",
    "    except Exception:\n",
    "        return None"
   ]
  },
  {
   "cell_type": "markdown",
   "metadata": {},
   "source": [
    "#### looping around the celebrities list and converting the Personality traits result dictionary into a data frame\n"
   ]
  },
  {
   "cell_type": "code",
   "execution_count": 105,
   "metadata": {},
   "outputs": [
    {
     "data": {
      "text/html": [
       "<div>\n",
       "<table border=\"1\" class=\"dataframe\">\n",
       "  <thead>\n",
       "    <tr style=\"text-align: right;\">\n",
       "      <th></th>\n",
       "      <th>agreeableness</th>\n",
       "      <th>conscientiousness</th>\n",
       "      <th>extraversion</th>\n",
       "      <th>neuroticism</th>\n",
       "      <th>openness</th>\n",
       "    </tr>\n",
       "  </thead>\n",
       "  <tbody>\n",
       "    <tr>\n",
       "      <th>SrBachchan</th>\n",
       "      <td>0.741211</td>\n",
       "      <td>0.910018</td>\n",
       "      <td>0.291282</td>\n",
       "      <td>0.755362</td>\n",
       "      <td>0.818320</td>\n",
       "    </tr>\n",
       "    <tr>\n",
       "      <th>aamir_khan</th>\n",
       "      <td>0.958284</td>\n",
       "      <td>0.821784</td>\n",
       "      <td>0.580477</td>\n",
       "      <td>0.443622</td>\n",
       "      <td>0.535877</td>\n",
       "    </tr>\n",
       "    <tr>\n",
       "      <th>akshaykumar</th>\n",
       "      <td>0.998325</td>\n",
       "      <td>0.981034</td>\n",
       "      <td>0.933315</td>\n",
       "      <td>0.896125</td>\n",
       "      <td>0.611194</td>\n",
       "    </tr>\n",
       "    <tr>\n",
       "      <th>iamsrk</th>\n",
       "      <td>0.983320</td>\n",
       "      <td>0.716730</td>\n",
       "      <td>0.504650</td>\n",
       "      <td>0.549974</td>\n",
       "      <td>0.331970</td>\n",
       "    </tr>\n",
       "  </tbody>\n",
       "</table>\n",
       "</div>"
      ],
      "text/plain": [
       "             agreeableness  conscientiousness  extraversion  neuroticism  \\\n",
       "SrBachchan        0.741211           0.910018      0.291282     0.755362   \n",
       "aamir_khan        0.958284           0.821784      0.580477     0.443622   \n",
       "akshaykumar       0.998325           0.981034      0.933315     0.896125   \n",
       "iamsrk            0.983320           0.716730      0.504650     0.549974   \n",
       "\n",
       "             openness  \n",
       "SrBachchan   0.818320  \n",
       "aamir_khan   0.535877  \n",
       "akshaykumar  0.611194  \n",
       "iamsrk       0.331970  "
      ]
     },
     "execution_count": 105,
     "metadata": {},
     "output_type": "execute_result"
    }
   ],
   "source": [
    "pitraits_dict = {}\n",
    "### Restricted the celeb list to 4 to display final output. \n",
    "for celeb in celeb_list[:5]:\n",
    "    PItraits = getPItraits(celeb)\n",
    "    if PItraits is not None:\n",
    "        #print(celeb)\n",
    "        pitraits_dict.update(getPItraits(celeb))\n",
    "    else:\n",
    "        pass\n",
    "traits_df = pd.DataFrame(pitraits_dict)\n",
    "traits_df = traits_df.transpose()\n",
    "traits_df\n"
   ]
  }
 ],
 "metadata": {
  "kernelspec": {
   "display_name": "Python 3",
   "language": "python",
   "name": "python3"
  },
  "language_info": {
   "codemirror_mode": {
    "name": "ipython",
    "version": 3
   },
   "file_extension": ".py",
   "mimetype": "text/x-python",
   "name": "python",
   "nbconvert_exporter": "python",
   "pygments_lexer": "ipython3",
   "version": "3.6.1"
  }
 },
 "nbformat": 4,
 "nbformat_minor": 2
}
