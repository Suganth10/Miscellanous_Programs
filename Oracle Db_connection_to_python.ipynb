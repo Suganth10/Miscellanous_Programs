{
 "cells": [
  {
   "cell_type": "code",
   "execution_count": 2,
   "metadata": {},
   "outputs": [
    {
     "data": {
      "text/plain": [
       "[('FRANCISCO',), ('ORLANDO',)]"
      ]
     },
     "execution_count": 2,
     "metadata": {},
     "output_type": "execute_result"
    }
   ],
   "source": [
    "# Check if Oracle instant client is installed - 32 or 64 bit based on sys config\n",
    "# Include the path of instant client in path environmental variable.\n",
    "# Ensure python is also same 32 or 64 bit. Install cx_Oracle library\n",
    "#Then connect to the Oracle database\n",
    "\n",
    "\n",
    "import cx_Oracle\n",
    "ip = 'reade.forest.usf.edu'\n",
    "port = 1521\n",
    "SID = 'cdb9'\n",
    "dsn_tns = cx_Oracle.makedsn(ip, port, SID)\n",
    "d = cx_Oracle.connect('db579','db5pass',dsn_tns)\n",
    "f = d.cursor()\n",
    "e = f.execute(\"SELECT FNAME FROM DB209.APP_FANS WHERE LNAME = 'ROSALES'\")\n",
    "e.fetchall()\n"
   ]
  },
  {
   "cell_type": "code",
   "execution_count": null,
   "metadata": {
    "collapsed": true
   },
   "outputs": [],
   "source": []
  }
 ],
 "metadata": {
  "kernelspec": {
   "display_name": "Python 3",
   "language": "python",
   "name": "python3"
  },
  "language_info": {
   "codemirror_mode": {
    "name": "ipython",
    "version": 3
   },
   "file_extension": ".py",
   "mimetype": "text/x-python",
   "name": "python",
   "nbconvert_exporter": "python",
   "pygments_lexer": "ipython3",
   "version": "3.6.1"
  }
 },
 "nbformat": 4,
 "nbformat_minor": 2
}
